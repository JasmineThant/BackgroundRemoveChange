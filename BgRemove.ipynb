{
 "cells": [
  {
   "cell_type": "code",
   "execution_count": 7,
   "id": "6525dd0b",
   "metadata": {
    "scrolled": true
   },
   "outputs": [
    {
     "name": "stdout",
     "output_type": "stream",
     "text": [
      "Requirement already satisfied: rembg in c:\\users\\jasmine.thant\\appdata\\local\\anaconda3\\lib\\site-packages (2.0.52)\n",
      "Requirement already satisfied: pillow in c:\\users\\jasmine.thant\\appdata\\local\\anaconda3\\lib\\site-packages (from rembg) (10.4.0)\n",
      "Requirement already satisfied: scipy in c:\\users\\jasmine.thant\\appdata\\local\\anaconda3\\lib\\site-packages (from rembg) (1.10.0)\n",
      "Requirement already satisfied: pymatting in c:\\users\\jasmine.thant\\appdata\\local\\anaconda3\\lib\\site-packages (from rembg) (1.1.12)\n",
      "Requirement already satisfied: pooch in c:\\users\\jasmine.thant\\appdata\\local\\anaconda3\\lib\\site-packages (from rembg) (1.4.0)\n",
      "Requirement already satisfied: opencv-python-headless in c:\\users\\jasmine.thant\\appdata\\local\\anaconda3\\lib\\site-packages (from rembg) (4.10.0.84)\n",
      "Requirement already satisfied: onnxruntime in c:\\users\\jasmine.thant\\appdata\\local\\anaconda3\\lib\\site-packages (from rembg) (1.18.1)\n",
      "Requirement already satisfied: tqdm in c:\\users\\jasmine.thant\\appdata\\local\\anaconda3\\lib\\site-packages (from rembg) (4.64.1)\n",
      "Requirement already satisfied: numpy in c:\\users\\jasmine.thant\\appdata\\local\\anaconda3\\lib\\site-packages (from rembg) (1.23.5)\n",
      "Requirement already satisfied: jsonschema in c:\\users\\jasmine.thant\\appdata\\local\\anaconda3\\lib\\site-packages (from rembg) (4.17.3)\n",
      "Requirement already satisfied: scikit-image in c:\\users\\jasmine.thant\\appdata\\local\\anaconda3\\lib\\site-packages (from rembg) (0.19.3)\n",
      "Requirement already satisfied: attrs>=17.4.0 in c:\\users\\jasmine.thant\\appdata\\local\\anaconda3\\lib\\site-packages (from jsonschema->rembg) (22.1.0)\n",
      "Requirement already satisfied: pyrsistent!=0.17.0,!=0.17.1,!=0.17.2,>=0.14.0 in c:\\users\\jasmine.thant\\appdata\\local\\anaconda3\\lib\\site-packages (from jsonschema->rembg) (0.18.0)\n",
      "Requirement already satisfied: flatbuffers in c:\\users\\jasmine.thant\\appdata\\local\\anaconda3\\lib\\site-packages (from onnxruntime->rembg) (24.3.25)\n",
      "Requirement already satisfied: sympy in c:\\users\\jasmine.thant\\appdata\\local\\anaconda3\\lib\\site-packages (from onnxruntime->rembg) (1.11.1)\n",
      "Requirement already satisfied: coloredlogs in c:\\users\\jasmine.thant\\appdata\\local\\anaconda3\\lib\\site-packages (from onnxruntime->rembg) (15.0.1)\n",
      "Requirement already satisfied: protobuf in c:\\users\\jasmine.thant\\appdata\\local\\anaconda3\\lib\\site-packages (from onnxruntime->rembg) (5.27.3)\n",
      "Requirement already satisfied: packaging in c:\\users\\jasmine.thant\\appdata\\local\\anaconda3\\lib\\site-packages (from onnxruntime->rembg) (22.0)\n",
      "Requirement already satisfied: requests in c:\\users\\jasmine.thant\\appdata\\local\\anaconda3\\lib\\site-packages (from pooch->rembg) (2.32.3)\n",
      "Requirement already satisfied: appdirs in c:\\users\\jasmine.thant\\appdata\\local\\anaconda3\\lib\\site-packages (from pooch->rembg) (1.4.4)\n",
      "Requirement already satisfied: numba!=0.49.0 in c:\\users\\jasmine.thant\\appdata\\local\\anaconda3\\lib\\site-packages (from pymatting->rembg) (0.56.4)\n",
      "Requirement already satisfied: networkx>=2.2 in c:\\users\\jasmine.thant\\appdata\\local\\anaconda3\\lib\\site-packages (from scikit-image->rembg) (2.8.4)\n",
      "Requirement already satisfied: imageio>=2.4.1 in c:\\users\\jasmine.thant\\appdata\\local\\anaconda3\\lib\\site-packages (from scikit-image->rembg) (2.26.0)\n",
      "Requirement already satisfied: tifffile>=2019.7.26 in c:\\users\\jasmine.thant\\appdata\\local\\anaconda3\\lib\\site-packages (from scikit-image->rembg) (2021.7.2)\n",
      "Requirement already satisfied: PyWavelets>=1.1.1 in c:\\users\\jasmine.thant\\appdata\\local\\anaconda3\\lib\\site-packages (from scikit-image->rembg) (1.4.1)\n",
      "Requirement already satisfied: colorama in c:\\users\\jasmine.thant\\appdata\\local\\anaconda3\\lib\\site-packages (from tqdm->rembg) (0.4.6)\n",
      "Requirement already satisfied: llvmlite<0.40,>=0.39.0dev0 in c:\\users\\jasmine.thant\\appdata\\local\\anaconda3\\lib\\site-packages (from numba!=0.49.0->pymatting->rembg) (0.39.1)\n",
      "Requirement already satisfied: setuptools in c:\\users\\jasmine.thant\\appdata\\local\\anaconda3\\lib\\site-packages (from numba!=0.49.0->pymatting->rembg) (65.6.3)\n",
      "Requirement already satisfied: humanfriendly>=9.1 in c:\\users\\jasmine.thant\\appdata\\local\\anaconda3\\lib\\site-packages (from coloredlogs->onnxruntime->rembg) (10.0)\n",
      "Requirement already satisfied: idna<4,>=2.5 in c:\\users\\jasmine.thant\\appdata\\local\\anaconda3\\lib\\site-packages (from requests->pooch->rembg) (3.4)\n",
      "Requirement already satisfied: certifi>=2017.4.17 in c:\\users\\jasmine.thant\\appdata\\local\\anaconda3\\lib\\site-packages (from requests->pooch->rembg) (2022.12.7)\n",
      "Requirement already satisfied: urllib3<3,>=1.21.1 in c:\\users\\jasmine.thant\\appdata\\local\\anaconda3\\lib\\site-packages (from requests->pooch->rembg) (2.2.2)\n",
      "Requirement already satisfied: charset-normalizer<4,>=2 in c:\\users\\jasmine.thant\\appdata\\local\\anaconda3\\lib\\site-packages (from requests->pooch->rembg) (2.0.4)\n",
      "Requirement already satisfied: mpmath>=0.19 in c:\\users\\jasmine.thant\\appdata\\local\\anaconda3\\lib\\site-packages (from sympy->onnxruntime->rembg) (1.2.1)\n",
      "Requirement already satisfied: pyreadline3 in c:\\users\\jasmine.thant\\appdata\\local\\anaconda3\\lib\\site-packages (from humanfriendly>=9.1->coloredlogs->onnxruntime->rembg) (3.4.1)\n"
     ]
    },
    {
     "name": "stderr",
     "output_type": "stream",
     "text": [
      "WARNING: Ignoring invalid distribution -illow (c:\\users\\jasmine.thant\\appdata\\local\\anaconda3\\lib\\site-packages)\n",
      "WARNING: Ignoring invalid distribution -illow (c:\\users\\jasmine.thant\\appdata\\local\\anaconda3\\lib\\site-packages)\n",
      "WARNING: Ignoring invalid distribution -illow (c:\\users\\jasmine.thant\\appdata\\local\\anaconda3\\lib\\site-packages)\n",
      "WARNING: Ignoring invalid distribution -illow (c:\\users\\jasmine.thant\\appdata\\local\\anaconda3\\lib\\site-packages)\n",
      "WARNING: Ignoring invalid distribution -illow (c:\\users\\jasmine.thant\\appdata\\local\\anaconda3\\lib\\site-packages)\n",
      "WARNING: Ignoring invalid distribution -illow (c:\\users\\jasmine.thant\\appdata\\local\\anaconda3\\lib\\site-packages)\n"
     ]
    }
   ],
   "source": [
    "#https://github.com/danielgatis/rembg.git\n",
    "\n",
    "!pip install rembg"
   ]
  },
  {
   "cell_type": "code",
   "execution_count": 94,
   "id": "4aa46bfa",
   "metadata": {},
   "outputs": [],
   "source": [
    "from rembg import remove\n",
    "import requests\n",
    "from PIL import Image\n",
    "from io import BytesIO\n",
    "import os"
   ]
  },
  {
   "cell_type": "code",
   "execution_count": 9,
   "id": "fa4073a4",
   "metadata": {},
   "outputs": [],
   "source": [
    "os.makedirs('original',exist_ok=True)\n",
    "os.makedirs('masked',exist_ok=True)"
   ]
  },
  {
   "cell_type": "code",
   "execution_count": 95,
   "id": "d35423d2",
   "metadata": {},
   "outputs": [],
   "source": [
    "#Get the input and output image folder\n",
    "input_path = 'C:/1. Jasmine/Mine Docs/Learning/My Projs/BgRemoveChange/Original_Images/'\n",
    "output_path = 'C:/1. Jasmine/Mine Docs/Learning/My Projs/BgRemoveChange/Masked_Images/'\n",
    "#Give valid image file types\n",
    "valid_images = [\".jpg\",\".jpeg\",\".png\"]"
   ]
  },
  {
   "cell_type": "markdown",
   "id": "cfb8ffc2",
   "metadata": {},
   "source": [
    "for image in os.listdir(input_path):\n",
    "    img_type = os.path.splitext(image)[1]\n",
    "    if img_type.lower() in valid_images:\n",
    "        with open(output_path+image,'wb') as f:\n",
    "            input1 = open(input_path+image,'rb').read()\n",
    "            subject = remove(input1, alpha_matting=True, alpha_matting_foreground_threshold=50)\n",
    "            f.write(subject)"
   ]
  },
  {
   "cell_type": "code",
   "execution_count": 96,
   "id": "5e153e7e",
   "metadata": {},
   "outputs": [],
   "source": [
    "#Remove image background\n",
    "for image in os.listdir(input_path):\n",
    "    img_type = os.path.splitext(image)[1]\n",
    "    if img_type.lower() in valid_images:\n",
    "        with open(input_path+image, 'rb') as i:\n",
    "            with open(output_path+image, 'wb') as o:\n",
    "                input = i.read()\n",
    "                output = remove(input, alpha_matting=True, alpha_matting_foreground_threshold=80)\n",
    "                o.write(output)"
   ]
  },
  {
   "cell_type": "code",
   "execution_count": 93,
   "id": "dcb94c72",
   "metadata": {},
   "outputs": [],
   "source": [
    "#Change image background\n",
    "Bg_img = 'C:/1. Jasmine/Mine Docs/Learning/My Projs/BgRemoveChange/BgRoad.jpg'\n",
    "Bg_img = Image.open(Bg_img)\n",
    "\n",
    "for image in os.listdir(output_path):\n",
    "    Ori_img = Image.open(output_path+image)\n",
    "\n",
    "    Bg_img = Bg_img.resize((Ori_img.width,Ori_img.height), Image.Resampling.LANCZOS)\n",
    "\n",
    "    Back_Im = Bg_img.copy()\n",
    "    Back_Im.paste(Ori_img, (0,0), Ori_img)\n",
    "    Back_Im.save(output_path+image)"
   ]
  },
  {
   "cell_type": "code",
   "execution_count": null,
   "id": "c15fe0b9",
   "metadata": {},
   "outputs": [],
   "source": []
  }
 ],
 "metadata": {
  "kernelspec": {
   "display_name": "Python 3 (ipykernel)",
   "language": "python",
   "name": "python3"
  },
  "language_info": {
   "codemirror_mode": {
    "name": "ipython",
    "version": 3
   },
   "file_extension": ".py",
   "mimetype": "text/x-python",
   "name": "python",
   "nbconvert_exporter": "python",
   "pygments_lexer": "ipython3",
   "version": "3.10.9"
  }
 },
 "nbformat": 4,
 "nbformat_minor": 5
}
